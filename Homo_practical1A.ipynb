{
 "cells": [
  {
   "cell_type": "markdown",
   "metadata": {},
   "source": [
    "#### Raquel Peña.\n",
    "#### Student number: 23083963"
   ]
  },
  {
   "cell_type": "markdown",
   "metadata": {},
   "source": [
    "Edited by Mohamed Sayed on 27/11/2019. All errors are now my own.\n",
    "# Practical 6 - Part 1A\n",
    "\n",
    "The aim of part 1A is to calculate the homography that best maps two sets of points to one another.  We will (eventually) use this for creating panoramas, and for calculating the 3D pose of planes.  You should use this\n",
    "template for your code and fill in the missing sections marked \"TO DO\"\n"
   ]
  },
  {
   "cell_type": "markdown",
   "metadata": {},
   "source": [
    "## Import libraries "
   ]
  },
  {
   "cell_type": "code",
   "execution_count": 21,
   "metadata": {},
   "outputs": [],
   "source": [
    "%matplotlib inline\n",
    "import os \n",
    "import numpy as np\n",
    "import matplotlib.pyplot as plt\n",
    "import scipy.io as sio"
   ]
  },
  {
   "cell_type": "markdown",
   "metadata": {},
   "source": [
    "## Test case formulation\n",
    "\n",
    "To start with, let's set up some start points `pts1Cart` and a homography, `H`, that we can use to generate target points `pts2Cart`. We'll also add some noise to `pts2Cart` to simulate a real world environment. The challenge is to find the same homography, or as close as noise allows, given `pts1Cart` and `pts2Cart`.\n",
    "\n",
    "__NOTE:__ It may be helpful to set `noiseLevel` to 0 to start with so that you can check if your solution is spot on while debugging. Make sure you set it back to some value, here we use 4, when you're confident your solution works."
   ]
  },
  {
   "cell_type": "code",
   "execution_count": 22,
   "metadata": {},
   "outputs": [],
   "source": [
    "# Define a set of two-dimensional Cartesian points\n",
    "pts1Cart = np.array([[240.5000, 16.8351, 33.5890, 164.2696, 149.1911],\n",
    "                    [248.8770, 193.5890, 251.3901, 168.4581, 228.7723]])\n",
    "\n",
    "# Convert points into homogeneous representation\n",
    "pts1Hom = np.concatenate((pts1Cart, np.ones((1,pts1Cart.shape[1]))), axis=0)\n",
    "\n",
    "# Define a homography\n",
    "H = np.array([[0.6, 0.7, -100.],\n",
    "              [1.0, 0.6, 50.],\n",
    "              [0.001, 0.002, 1.0]])\n",
    "\n",
    "# Apply a homography to the points\n",
    "pts2Hom = np.matmul(H,pts1Hom)\n",
    "\n",
    "\n",
    "# Convert back to Cartesian coordinates\n",
    "pts2Cart = pts2Hom[0:2,:] / np.tile([pts2Hom[2,:]],(2,1))\n",
    "\n",
    "# Add a small amount of noise. Set this to zero to begin with to see if your homography solution is spot on.\n",
    "noiseLevel = 4.0\n",
    "pts2Cart = pts2Cart + np.random.normal(0, noiseLevel, pts2Cart.shape)"
   ]
  },
  {
   "cell_type": "markdown",
   "metadata": {},
   "source": [
    "The process to apply homography to a couple of points."
   ]
  },
  {
   "cell_type": "markdown",
   "metadata": {},
   "source": [
    "## Plotting\n",
    "\n",
    "Let's plot the the first original set of points, `pts1Cart`, in blue and the second set of points, `pts2Cart`, in red. "
   ]
  },
  {
   "cell_type": "code",
   "execution_count": 23,
   "metadata": {},
   "outputs": [
    {
     "data": {
      "image/png": "[encoded data removed]",
      "text/plain": [
       "<Figure size 640x480 with 1 Axes>"
      ]
     },
     "metadata": {},
     "output_type": "display_data"
    }
   ],
   "source": [
    "# Plot a green line between pairs of start points (blue) and transformed points (red).\n",
    "nPoint = pts1Cart.shape[1]\n",
    "for cPoint in range(0, nPoint):\n",
    "    plt.plot([pts1Cart[0,cPoint], pts2Cart[0,cPoint]], [pts1Cart[1,cPoint], pts2Cart[1,cPoint]],'g-')\n",
    "    plt.plot(pts1Cart[0,cPoint],pts1Cart[1,cPoint],'b.', pts2Cart[0,cPoint],pts2Cart[1,cPoint],'r.') \n",
    "\n",
    "plt.show()"
   ]
  },
  {
   "cell_type": "markdown",
   "metadata": {},
   "source": [
    "It can be observed that the original points in blue have been displaced to the new positions in red after the homography has been applied. The individual transformation of each point is indicated by the green lines, highlighting the effect of the added noise."
   ]
  },
  {
   "cell_type": "markdown",
   "metadata": {},
   "source": [
    "## Homography estimation time!\n",
    "\n",
    "We've formulated our test example; now our goal is to estimate the homography that maps the first set of points to the second set of points.\n",
    "\n",
    "### ****TO DO****: Fill in the details of these routines (solveAXEqualsZero and calcBestHomography). "
   ]
  },
  {
   "cell_type": "code",
   "execution_count": 24,
   "metadata": {},
   "outputs": [],
   "source": [
    "def solveAXEqualsZero(A):\n",
    "    # TO DO: Write this routine - it should solve Ah = 0. You can do this using SVD. Consult your notes! \n",
    "    # Hint: SVD will be involved. \n",
    "    # Perform the Singular Value Decomposition (SVD) of A\n",
    "    U, S, VT = np.linalg.svd(A)\n",
    "    \n",
    "    # The last vector of VT (the last row of V, transposed) is the solution to Ah = 0\n",
    "    # This is because it corresponds to the smallest singular value, which should be zero or close to zero\n",
    "    h = VT[-1]\n",
    "    \n",
    "    return h"
   ]
  },
  {
   "cell_type": "code",
   "execution_count": 25,
   "metadata": {},
   "outputs": [],
   "source": [
    "def calcBestHomography(pts1Cart, pts2Cart):\n",
    "    \n",
    "    # This function should apply the direct linear transform (DLT) algorithm to calculate the best \n",
    "    # homography that maps the cartesian points in pts1Cart to their corresonding matching cartesian poitns \n",
    "    # in pts2Cart.\n",
    "    \n",
    "    # This function calls solveAXEqualsZero. Make sure you are wary of how to reshape h into a 3 by 3 matrix. \n",
    "\n",
    "    n_points = pts1Cart.shape[1]\n",
    "    \n",
    "    # TO DO: replace this:\n",
    "    #H = np.identity(3)\n",
    "    pts1Hom = np.concatenate((pts1Cart, np.ones((1, pts1Cart.shape[1]))), axis=0)\n",
    "    pts2Hom = np.concatenate((pts2Cart, np.ones((1, pts2Cart.shape[1]))), axis=0)\n",
    "\n",
    "    # TO DO: \n",
    "    # First convert points into homogeneous representation\n",
    "    # Hint: we've done this before in the skeleton code we provide.\n",
    "    \n",
    "    # Then construct the matrix A, size (n_points * 2, 9)\n",
    "    # Consult the notes!\n",
    "\n",
    "    # Construct the matrix A, where each point correspondence gives us two rows of A\n",
    "    A = np.zeros((pts1Cart.shape[1] * 2, 9))\n",
    "    for i in range(pts1Cart.shape[1]):\n",
    "        X = pts1Hom[:, i]\n",
    "        X_prime = pts2Hom[:, i]\n",
    "        \n",
    "        # Submatrix for the point correspondence\n",
    "        A[2*i] = [-X[0], -X[1], -1, 0, 0, 0, X_prime[0]*X[0], X_prime[0]*X[1], X_prime[0]]\n",
    "        A[2*i+1] = [0, 0, 0, -X[0], -X[1], -1, X_prime[1]*X[0], X_prime[1]*X[1], X_prime[1]]\n",
    "    \n",
    "    # Solve Ah = 0 using solveAXEqualsZero and get h.\n",
    "    h = solveAXEqualsZero(A)\n",
    "\n",
    "        # Reshape h into the matrix H, values of h go first into rows of H\n",
    "    H = h.reshape((3, 3))\n",
    "\n",
    "    \n",
    "    return H"
   ]
  },
  {
   "cell_type": "markdown",
   "metadata": {},
   "source": [
    "## Test time!\n",
    "\n",
    "Time to put it all together. \n",
    "\n",
    "Now we need a way of measuring how well our mapping does. To do this we will apply our estimated mapping, `HEst`, to `pts1Cart` and obtain estimated points `pts2EstCart`. We will compare `pts2EstCart` and `pts2Cart` using a sum of squared difference to see how well our solution at least approximates the transformed noisy points `pts2Cart`.\n",
    "\n",
    "Red points on the plot are the noisy points we observe, `pts2Cart`, and the magenta points are the transformed points, `pts2EstCart`, that we get when we apply our estimated homography on `pts1Cart`. The black lines represent the error between both points; if you've set `noiseLevel` to 0, then `sqDiff` should be 0 and the points should overlap perfectly."
   ]
  },
  {
   "cell_type": "code",
   "execution_count": 27,
   "metadata": {},
   "outputs": [
    {
     "name": "stdout",
     "output_type": "stream",
     "text": [
      "Squared difference between pts2Cart and pts2EstCart is: 36.28\n"
     ]
    },
    {
     "data": {
      "image/png": "[encoded data removed]",
      "text/plain": [
       "<Figure size 640x480 with 1 Axes>"
      ]
     },
     "metadata": {},
     "output_type": "display_data"
    }
   ],
   "source": [
    "# Replace this with a call to the function calcBestHomography. You'll need to figure out which way around the \n",
    "# points go in the function, i.e. which direction this homography transforms points from and to. The ordering \n",
    "# is dead simple for now but acts as a simple exercise for what comes in later parts of this practical.\n",
    "HEst = calcBestHomography(pts1Cart, pts2Cart)\n",
    "\n",
    "# Apply estimated homography to points\n",
    "pts2EstHom = np.matmul(HEst,pts1Hom)\n",
    "\n",
    "# Convert back to Cartesian coordinates\n",
    "pts2EstCart = pts2EstHom[0:2,:] / np.tile([pts2EstHom[2,:]],(2,1))\n",
    "\n",
    "# Calculate the mean squared distance from actual points\n",
    "sqDiff = np.mean(sum((pts2Cart - pts2EstCart)**2))\n",
    "\n",
    "print(\"Squared difference between pts2Cart and pts2EstCart is: %.2f\" % sqDiff)\n",
    "\n",
    "# Draw figure with points before and after applying the estimated homography\n",
    "nPoint = pts1Cart.shape[1]\n",
    "\n",
    "# Plot a black line between pairs of actual points (red) and estimated points (magenta)\n",
    "for cPoint in range(0, nPoint):\n",
    "    plt.plot([pts2Cart[0,cPoint], pts2EstCart[0,cPoint]], [pts2Cart[1,cPoint], pts2EstCart[1,cPoint]],'k-')\n",
    "    plt.plot(pts2Cart[0,cPoint],pts2Cart[1,cPoint],'r.',pts2EstCart[0,cPoint],pts2EstCart[1,cPoint],'m.') \n",
    "\n",
    "plt.show()\n",
    "\n",
    "# Sqaured difference between pts2Cart and pts2EstCart is: 8305.33\n"
   ]
  },
  {
   "cell_type": "markdown",
   "metadata": {},
   "source": [
    "The image displays the estimated transformed points, in magent, obtained by applying the estimated homography to the original points. The observed noisy points are shown in red and the lines illustrate the error between the estimated and observed points. The small squared difference of 2.72 suggests that the homography estimation is accurate, effectively capturing the transformation despite the added noise."
   ]
  },
  {
   "cell_type": "markdown",
   "metadata": {},
   "source": [
    "## Other things **** TO DO ****\n",
    "\n",
    "1: Convince yourself that the homography is ambiguous up to scale (by\n",
    "multiplying it by a constant factor and showing it does the same thing).\n",
    "Can you see why this is the case mathematically?"
   ]
  },
  {
   "cell_type": "markdown",
   "metadata": {},
   "source": [
    "A homography \\( H \\) transforms points in homogeneous coordinates $$ \\mathbf{p} = (x, y, 1)^T $$ on a plane, resulting in a transformed point $$ \\mathbf{p'} = (x', y', w')^T $$\n",
    "$$\n",
    "\\mathbf{p'} = H \\mathbf{p}\n",
    "$$\n",
    "\n",
    "When scaling the homography by a non-zero scalar factor alpha, we obtain alpha H. Applying this new matrix \\( \\alpha H \\) to \\( \\mathbf{p} \\) gives us:\n",
    "\n",
    "$$\n",
    "\\alpha \\mathbf{p'} = \\alpha H \\mathbf{p}\n",
    "$$\n",
    "\n",
    "In homogeneous coordinates, this can be written as \\(x'', y'', w'')^T = alpha(x', y', w')^T. To convert back to Cartesian coordinates, it is divided by \\( w'' \\):\n",
    "\n",
    "$$\n",
    "\\left( \\frac{x''}{w''}, \\frac{y''}{w''} \\right) = \\left( \\frac{\\alpha x'}{\\alpha w'}, \\frac{\\alpha y'}{\\alpha w'} \\right) = \\left( \\frac{x'}{w'}, \\frac{y'}{w'} \\right)\n",
    "$$\n",
    "\n",
    "This mathematic approach shows that the scalar alpha cancels, leaving us with the same Cartesian coordinates as if we had applied the original homography without the scaling factor. Therefore, the homography is effectively ambiguous up to scale. "
   ]
  },
  {
   "cell_type": "markdown",
   "metadata": {},
   "source": [
    "2: Show empirically that your homography routine can EXACTLY map any four points to any other four points."
   ]
  },
  {
   "cell_type": "code",
   "execution_count": 19,
   "metadata": {},
   "outputs": [
    {
     "data": {
      "text/plain": [
       "7.37186367309535e-22"
      ]
     },
     "execution_count": 19,
     "metadata": {},
     "output_type": "execute_result"
    }
   ],
   "source": [
    "# Redefining the sets of points for the homography calculation\n",
    "# Define a new set of four two-dimensional Cartesian points\n",
    "pts1Cart_new = np.array([[240.5000, 16.8351, 33.5890, 164.2696],\n",
    "                         [248.8770, 193.5890, 251.3901, 168.4581]])\n",
    "\n",
    "# Define the corresponding destination points\n",
    "pts2Cart_new = np.array([[251, 103, 160, 30],  # x-coordinates for destination\n",
    "                         [30, 10, 210, 176]])  # y-coordinates for destination\n",
    "\n",
    "# Now calculate the homography with these point sets\n",
    "HEst_new = calcBestHomography(pts1Cart_new, pts2Cart_new)\n",
    "\n",
    "# Apply the estimated homography to the original points\n",
    "pts1Hom_new = np.concatenate((pts1Cart_new, np.ones((1, pts1Cart_new.shape[1]))), axis=0)\n",
    "pts2EstHom_new = np.matmul(HEst_new, pts1Hom_new)\n",
    "\n",
    "# Convert back to Cartesian coordinates\n",
    "pts2EstCart_new = pts2EstHom_new[0:2,:] / np.tile([pts2EstHom_new[2,:]], (2,1))\n",
    "\n",
    "# Calculate the mean squared error between the estimated points and the destination points\n",
    "error_new = np.mean(np.sum((pts2EstCart_new - pts2Cart_new)**2, axis=0))\n",
    "\n",
    "error_new\n",
    "\n"
   ]
  },
  {
   "cell_type": "code",
   "execution_count": 20,
   "metadata": {},
   "outputs": [
    {
     "data": {
      "text/plain": [
       "3.91821605031051e-21"
      ]
     },
     "execution_count": 20,
     "metadata": {},
     "output_type": "execute_result"
    }
   ],
   "source": [
    "# Translating the code to English for defining another set of alternative destination points\n",
    "# Define another set of alternative destination points\n",
    "pts2Cart_alternative = np.array([[300, 120, 200, 50],  # x-coordinates for destination\n",
    "                                 [60, 20, 250, 190]])  # y-coordinates for destination\n",
    "\n",
    "# Calculate the homography with the new set of destination points\n",
    "HEst_alternative = calcBestHomography(pts1Cart_new, pts2Cart_alternative)\n",
    "\n",
    "# Apply the estimated homography to the original points\n",
    "pts2EstHom_alternative = np.matmul(HEst_alternative, pts1Hom_new)\n",
    "\n",
    "# Convert back to Cartesian coordinates\n",
    "pts2EstCart_alternative = pts2EstHom_alternative[0:2,:] / np.tile([pts2EstHom_alternative[2,:]], (2,1))\n",
    "\n",
    "# Calculate the mean squared error between the estimated points and the alternative destination points\n",
    "error_alternative = np.mean(np.sum((pts2EstCart_alternative - pts2Cart_alternative)**2, axis=0))\n",
    "\n",
    "error_alternative\n"
   ]
  },
  {
   "cell_type": "markdown",
   "metadata": {},
   "source": [
    "The homography calculations have yielded results with high precision (errors closer to zero) for two different sets of four points, regardless of the specific choice of points. Each corresponding pair of points between the two planes contributes two degrees of freedom, represented by two linear equations, one for x and one for y. Consequently, four pairs of points provide the exact number of eight equations necessary to solve the homography. This one-to-one correspondence highlights why exactly four pairs of points are necessary and sufficient to determine a homography without leaving any degrees of freedom unresolved."
   ]
  }
 ],
 "metadata": {
  "kernelspec": {
   "display_name": "Python 3",
   "language": "python",
   "name": "python3"
  },
  "language_info": {
   "codemirror_mode": {
    "name": "ipython",
    "version": 3
   },
   "file_extension": ".py",
   "mimetype": "text/x-python",
   "name": "python",
   "nbconvert_exporter": "python",
   "pygments_lexer": "ipython3",
   "version": "3.9.18"
  }
 },
 "nbformat": 4,
 "nbformat_minor": 1
}
